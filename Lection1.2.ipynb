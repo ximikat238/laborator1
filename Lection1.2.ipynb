{
 "cells": [
  {
   "cell_type": "markdown",
   "metadata": {},
   "source": [
    "# Простые типы данных"
   ]
  },
  {
   "cell_type": "code",
   "execution_count": 1,
   "metadata": {},
   "outputs": [
    {
     "data": {
      "text/plain": [
       "int"
      ]
     },
     "execution_count": 1,
     "metadata": {},
     "output_type": "execute_result"
    }
   ],
   "source": [
    "my_integer = 10\n",
    "type(my_integer)"
   ]
  },
  {
   "cell_type": "code",
   "execution_count": 2,
   "metadata": {},
   "outputs": [
    {
     "data": {
      "text/plain": [
       "float"
      ]
     },
     "execution_count": 2,
     "metadata": {},
     "output_type": "execute_result"
    }
   ],
   "source": [
    "my_float = 5.5\n",
    "type(my_float)"
   ]
  },
  {
   "cell_type": "code",
   "execution_count": 3,
   "metadata": {},
   "outputs": [
    {
     "data": {
      "text/plain": [
       "str"
      ]
     },
     "execution_count": 3,
     "metadata": {},
     "output_type": "execute_result"
    }
   ],
   "source": [
    "my_string = 'Hello World!'\n",
    "my_string_2 = \"Hello World\"\n",
    "type(my_string)"
   ]
  },
  {
   "cell_type": "code",
   "execution_count": 4,
   "metadata": {},
   "outputs": [
    {
     "data": {
      "text/plain": [
       "False"
      ]
     },
     "execution_count": 4,
     "metadata": {},
     "output_type": "execute_result"
    }
   ],
   "source": [
    "# my_bool = True\n",
    "my_bool = False\n",
    "my_bool"
   ]
  },
  {
   "cell_type": "code",
   "execution_count": 5,
   "metadata": {},
   "outputs": [
    {
     "name": "stdout",
     "output_type": "stream",
     "text": [
      "True\n"
     ]
    }
   ],
   "source": [
    "x = 5\n",
    "y = 1\n",
    "print(x > y)"
   ]
  },
  {
   "cell_type": "code",
   "execution_count": 6,
   "metadata": {},
   "outputs": [
    {
     "name": "stdout",
     "output_type": "stream",
     "text": [
      "Ваша годовая зарплата составляет  1000  условных единиц\n"
     ]
    }
   ],
   "source": [
    "# преобразование типов\n",
    "salary = 1000\n",
    "print('Ваша годовая зарплата составляет ', salary, ' условных единиц')"
   ]
  },
  {
   "cell_type": "code",
   "execution_count": 7,
   "metadata": {},
   "outputs": [
    {
     "ename": "TypeError",
     "evalue": "can only concatenate str (not \"int\") to str",
     "output_type": "error",
     "traceback": [
      "\u001b[0;31m---------------------------------------------------------------------------\u001b[0m",
      "\u001b[0;31mTypeError\u001b[0m                                 Traceback (most recent call last)",
      "\u001b[0;32m<ipython-input-7-5e3da16cc4df>\u001b[0m in \u001b[0;36m<module>\u001b[0;34m\u001b[0m\n\u001b[0;32m----> 1\u001b[0;31m \u001b[0mprint\u001b[0m\u001b[0;34m(\u001b[0m\u001b[0;34m'Ваша годовая зарплата составляет '\u001b[0m \u001b[0;34m+\u001b[0m \u001b[0msalary\u001b[0m \u001b[0;34m+\u001b[0m \u001b[0;34m' условных единиц'\u001b[0m\u001b[0;34m)\u001b[0m\u001b[0;34m\u001b[0m\u001b[0;34m\u001b[0m\u001b[0m\n\u001b[0m",
      "\u001b[0;31mTypeError\u001b[0m: can only concatenate str (not \"int\") to str"
     ]
    }
   ],
   "source": [
    "print('Ваша годовая зарплата составляет ' + salary + ' условных единиц')"
   ]
  },
  {
   "cell_type": "code",
   "execution_count": 8,
   "metadata": {},
   "outputs": [
    {
     "name": "stdout",
     "output_type": "stream",
     "text": [
      "2\n"
     ]
    }
   ],
   "source": [
    "# неявное преобразование типов\n",
    "# print(20 / 5.1)\n",
    "print(1 + True)"
   ]
  },
  {
   "cell_type": "markdown",
   "metadata": {},
   "source": [
    "## Строки"
   ]
  },
  {
   "cell_type": "code",
   "execution_count": 9,
   "metadata": {},
   "outputs": [
    {
     "data": {
      "text/plain": [
       "'Hi, Galina'"
      ]
     },
     "execution_count": 9,
     "metadata": {},
     "output_type": "execute_result"
    }
   ],
   "source": [
    "'Hi, ' + 'Galina'"
   ]
  },
  {
   "cell_type": "code",
   "execution_count": 10,
   "metadata": {},
   "outputs": [
    {
     "data": {
      "text/plain": [
       "'HELLO WORLD!'"
      ]
     },
     "execution_count": 10,
     "metadata": {},
     "output_type": "execute_result"
    }
   ],
   "source": [
    "my_string.upper()"
   ]
  },
  {
   "cell_type": "code",
   "execution_count": 11,
   "metadata": {},
   "outputs": [
    {
     "data": {
      "text/plain": [
       "'hello world!'"
      ]
     },
     "execution_count": 11,
     "metadata": {},
     "output_type": "execute_result"
    }
   ],
   "source": [
    "my_string.lower()"
   ]
  },
  {
   "cell_type": "code",
   "execution_count": 12,
   "metadata": {},
   "outputs": [
    {
     "data": {
      "text/plain": [
       "'Hello world!'"
      ]
     },
     "execution_count": 12,
     "metadata": {},
     "output_type": "execute_result"
    }
   ],
   "source": [
    "my_string.capitalize()"
   ]
  },
  {
   "cell_type": "code",
   "execution_count": 13,
   "metadata": {},
   "outputs": [
    {
     "data": {
      "text/plain": [
       "'Goodbye World!'"
      ]
     },
     "execution_count": 13,
     "metadata": {},
     "output_type": "execute_result"
    }
   ],
   "source": [
    "my_string.replace('Hello', 'Goodbye')"
   ]
  },
  {
   "cell_type": "code",
   "execution_count": 14,
   "metadata": {},
   "outputs": [
    {
     "data": {
      "text/plain": [
       "12"
      ]
     },
     "execution_count": 14,
     "metadata": {},
     "output_type": "execute_result"
    }
   ],
   "source": [
    "len(my_string)"
   ]
  },
  {
   "cell_type": "markdown",
   "metadata": {},
   "source": [
    "## f-строки"
   ]
  },
  {
   "cell_type": "code",
   "execution_count": 15,
   "metadata": {},
   "outputs": [
    {
     "name": "stdout",
     "output_type": "stream",
     "text": [
      "Hello, Galina, i know python a bit\n",
      "<class 'str'>\n"
     ]
    }
   ],
   "source": [
    "name = 'galina'\n",
    "lang = 'python'\n",
    "t = f\"Hello, {name.capitalize()}, i know {lang} a bit\"\n",
    "print(t)\n",
    "print(type(t))"
   ]
  },
  {
   "cell_type": "markdown",
   "metadata": {},
   "source": [
    "## Индексация и срезы"
   ]
  },
  {
   "cell_type": "code",
   "execution_count": 16,
   "metadata": {},
   "outputs": [],
   "source": [
    "my_string = 'Hello World'"
   ]
  },
  {
   "cell_type": "code",
   "execution_count": 17,
   "metadata": {},
   "outputs": [
    {
     "data": {
      "text/plain": [
       "'l'"
      ]
     },
     "execution_count": 17,
     "metadata": {},
     "output_type": "execute_result"
    }
   ],
   "source": [
    "my_string[2]"
   ]
  },
  {
   "cell_type": "code",
   "execution_count": 18,
   "metadata": {},
   "outputs": [
    {
     "data": {
      "text/plain": [
       "'o'"
      ]
     },
     "execution_count": 18,
     "metadata": {},
     "output_type": "execute_result"
    }
   ],
   "source": [
    "my_string[-4]"
   ]
  },
  {
   "cell_type": "code",
   "execution_count": 19,
   "metadata": {},
   "outputs": [
    {
     "data": {
      "text/plain": [
       "'Hello'"
      ]
     },
     "execution_count": 19,
     "metadata": {},
     "output_type": "execute_result"
    }
   ],
   "source": [
    "my_string[0:5]"
   ]
  },
  {
   "cell_type": "code",
   "execution_count": 20,
   "metadata": {},
   "outputs": [
    {
     "data": {
      "text/plain": [
       "'HloW'"
      ]
     },
     "execution_count": 20,
     "metadata": {},
     "output_type": "execute_result"
    }
   ],
   "source": [
    "my_string = 'Hello World'\n",
    "my_string[0:8:2]"
   ]
  },
  {
   "cell_type": "code",
   "execution_count": 21,
   "metadata": {},
   "outputs": [
    {
     "data": {
      "text/plain": [
       "'World'"
      ]
     },
     "execution_count": 21,
     "metadata": {},
     "output_type": "execute_result"
    }
   ],
   "source": [
    "my_string[6:]"
   ]
  },
  {
   "cell_type": "code",
   "execution_count": 22,
   "metadata": {},
   "outputs": [
    {
     "data": {
      "text/plain": [
       "'Hello'"
      ]
     },
     "execution_count": 22,
     "metadata": {},
     "output_type": "execute_result"
    }
   ],
   "source": [
    "my_string[:5]"
   ]
  },
  {
   "cell_type": "markdown",
   "metadata": {},
   "source": [
    "## Упражнение\n",
    "Выделите только из даты следующего формата"
   ]
  },
  {
   "cell_type": "code",
   "execution_count": 23,
   "metadata": {},
   "outputs": [],
   "source": [
    "date = '2019-08-27T23:59:00.932'"
   ]
  },
  {
   "cell_type": "code",
   "execution_count": 24,
   "metadata": {},
   "outputs": [
    {
     "data": {
      "text/plain": [
       "'2019-08-27'"
      ]
     },
     "execution_count": 24,
     "metadata": {},
     "output_type": "execute_result"
    }
   ],
   "source": [
    "date[:10]"
   ]
  },
  {
   "cell_type": "markdown",
   "metadata": {},
   "source": [
    "## Проверка на вхождение элемента в объект"
   ]
  },
  {
   "cell_type": "code",
   "execution_count": 25,
   "metadata": {},
   "outputs": [
    {
     "name": "stdout",
     "output_type": "stream",
     "text": [
      "find!\n"
     ]
    }
   ],
   "source": [
    "my_string = 'Hello World'\n",
    "target_string = 'World'\n",
    "if target_string in my_string:\n",
    "    print('find!')"
   ]
  },
  {
   "cell_type": "markdown",
   "metadata": {},
   "source": [
    "# Списки"
   ]
  },
  {
   "cell_type": "code",
   "execution_count": 26,
   "metadata": {},
   "outputs": [],
   "source": [
    "month_list = ['Jan', 'Feb', 'Mar', 'Apr', 'May', 'Jun', 'Jul', 'Aug', 'Sep']\n",
    "income_list = [13000, 14000, 14300, 15000, 13800, 13000, 14900, 15200, 15300]\n",
    "income_by_months = [['Jan', 13000], ['Feb', 14000], ['Mar', 14300], ['Apr', 15000], ['May', 13800], ['Jun', 13000], ['Jul', 14900], ['Aug', 15200], ['Sep', 15300]]"
   ]
  },
  {
   "cell_type": "code",
   "execution_count": 27,
   "metadata": {},
   "outputs": [
    {
     "name": "stdout",
     "output_type": "stream",
     "text": [
      "<class 'list'>\n",
      "<class 'list'>\n",
      "<class 'list'>\n"
     ]
    }
   ],
   "source": [
    "print(type(month_list))\n",
    "print(type(income_list))\n",
    "print(type(income_by_months))"
   ]
  },
  {
   "cell_type": "code",
   "execution_count": 28,
   "metadata": {},
   "outputs": [
    {
     "name": "stdout",
     "output_type": "stream",
     "text": [
      "Jan\n",
      "Sep\n",
      "['Jun', 13000]\n"
     ]
    }
   ],
   "source": [
    "# индексация элементов в списке\n",
    "print(month_list[0])\n",
    "print(month_list[-1])\n",
    "print(income_by_months[-4])"
   ]
  },
  {
   "cell_type": "code",
   "execution_count": 29,
   "metadata": {},
   "outputs": [
    {
     "name": "stdout",
     "output_type": "stream",
     "text": [
      "[['Jan', 13000], ['Feb', 14000]]\n",
      "--------------\n",
      "[['Feb', 14000], ['Mar', 14300]]\n",
      "--------------\n",
      "[['Mar', 14300], ['Apr', 15000], ['May', 13800], ['Jun', 13000], ['Jul', 14900], ['Aug', 15200], ['Sep', 15300]]\n",
      "--------------\n",
      "[['Jan', 13000], ['Feb', 14000], ['Mar', 14300]]\n"
     ]
    }
   ],
   "source": [
    "# срезы\n",
    "print(income_by_months[0:2])\n",
    "print('--------------')\n",
    "print(income_by_months[-8:-6])\n",
    "print('--------------')\n",
    "print(income_by_months[2:])\n",
    "print('--------------')\n",
    "print(income_by_months[:3])"
   ]
  },
  {
   "cell_type": "code",
   "execution_count": 30,
   "metadata": {},
   "outputs": [
    {
     "data": {
      "text/plain": [
       "15000"
      ]
     },
     "execution_count": 30,
     "metadata": {},
     "output_type": "execute_result"
    }
   ],
   "source": [
    "# можно обращаться к любому уровню вложенности\n",
    "income_by_months = [['Jan', 13000], ['Feb', 14000], ['Mar', 14300], ['Apr', 15000], ['May', 13800], ['Jun', 13000], ['Jul', 14900], ['Aug', 15200], ['Sep', 15300]]\n",
    "income_by_months[3][1]"
   ]
  },
  {
   "cell_type": "code",
   "execution_count": 31,
   "metadata": {},
   "outputs": [
    {
     "name": "stdout",
     "output_type": "stream",
     "text": [
      "[['Jan', 13000], ['Feb', 14000], ['Mar', 14300], ['Apr', 15000], ['May', 13800], ['Jun', 18000], ['Jul', 14900], ['Aug', 15200], ['Sep', 15300]]\n"
     ]
    }
   ],
   "source": [
    "# изменение списков\n",
    "income_by_months[5][1] += 5000\n",
    "print(income_by_months)"
   ]
  },
  {
   "cell_type": "code",
   "execution_count": 32,
   "metadata": {},
   "outputs": [
    {
     "name": "stdout",
     "output_type": "stream",
     "text": [
      "[['Jan', 13200], ['Feb', 13900], ['Mar', 14300], ['Apr', 15000], ['May', 13800], ['Jun', 18000], ['Jul', 14900], ['Aug', 15200], ['Sep', 15300]]\n"
     ]
    }
   ],
   "source": [
    "income_by_months[0:2] = [['Jan', 13200], ['Feb', 13900]]\n",
    "print(income_by_months)"
   ]
  },
  {
   "cell_type": "code",
   "execution_count": 33,
   "metadata": {},
   "outputs": [
    {
     "name": "stdout",
     "output_type": "stream",
     "text": [
      "[['Jan', 13200], ['Feb', 13900], ['Mar', 14300], ['Apr', 15000], ['May', 13800], ['Jun', 18000], ['Jul', 14900], ['Aug', 15200], ['Sep', 15300], ['Nov', 15400], ['Dec', 17000]]\n"
     ]
    }
   ],
   "source": [
    "income_by_months_2 = [['Nov', 15400], ['Dec', 17000]]\n",
    "income_by_month = income_by_months + income_by_months_2\n",
    "print(income_by_month)"
   ]
  },
  {
   "cell_type": "markdown",
   "metadata": {},
   "source": [
    "## Распаковка списков"
   ]
  },
  {
   "cell_type": "code",
   "execution_count": 34,
   "metadata": {},
   "outputs": [
    {
     "data": {
      "text/plain": [
       "'первый'"
      ]
     },
     "execution_count": 34,
     "metadata": {},
     "output_type": "execute_result"
    }
   ],
   "source": [
    "first, second, third = ['первый', 'второй', 'третий']\n",
    "first"
   ]
  },
  {
   "cell_type": "code",
   "execution_count": 35,
   "metadata": {},
   "outputs": [
    {
     "ename": "NameError",
     "evalue": "name 'other' is not defined",
     "output_type": "error",
     "traceback": [
      "\u001b[0;31m---------------------------------------------------------------------------\u001b[0m",
      "\u001b[0;31mNameError\u001b[0m                                 Traceback (most recent call last)",
      "\u001b[0;32m<ipython-input-35-4aecdbfca162>\u001b[0m in \u001b[0;36m<module>\u001b[0;34m\u001b[0m\n\u001b[1;32m      1\u001b[0m \u001b[0;31m# когда число элементов неизвестно\u001b[0m\u001b[0;34m\u001b[0m\u001b[0;34m\u001b[0m\u001b[0;34m\u001b[0m\u001b[0m\n\u001b[1;32m      2\u001b[0m \u001b[0mfirst\u001b[0m\u001b[0;34m,\u001b[0m \u001b[0;34m*\u001b[0m\u001b[0m_\u001b[0m \u001b[0;34m=\u001b[0m \u001b[0;34m[\u001b[0m\u001b[0;34m'первый'\u001b[0m\u001b[0;34m,\u001b[0m \u001b[0;34m'второй'\u001b[0m\u001b[0;34m,\u001b[0m \u001b[0;34m'третий'\u001b[0m\u001b[0;34m]\u001b[0m\u001b[0;34m\u001b[0m\u001b[0;34m\u001b[0m\u001b[0m\n\u001b[0;32m----> 3\u001b[0;31m \u001b[0mfirst\u001b[0m\u001b[0;34m,\u001b[0m \u001b[0mother\u001b[0m\u001b[0;34m\u001b[0m\u001b[0;34m\u001b[0m\u001b[0m\n\u001b[0m",
      "\u001b[0;31mNameError\u001b[0m: name 'other' is not defined"
     ]
    }
   ],
   "source": [
    "# когда число элементов неизвестно\n",
    "first, *_ = ['первый', 'второй', 'третий']\n",
    "first, other"
   ]
  },
  {
   "cell_type": "code",
   "execution_count": 36,
   "metadata": {},
   "outputs": [],
   "source": [
    "first, *other, last =  ['первый', 'второй', 'третий', 'четвертый']"
   ]
  },
  {
   "cell_type": "code",
   "execution_count": 37,
   "metadata": {},
   "outputs": [
    {
     "data": {
      "text/plain": [
       "('первый', 'четвертый')"
      ]
     },
     "execution_count": 37,
     "metadata": {},
     "output_type": "execute_result"
    }
   ],
   "source": [
    "first, last"
   ]
  },
  {
   "cell_type": "markdown",
   "metadata": {},
   "source": [
    "## Операции со списками"
   ]
  },
  {
   "cell_type": "code",
   "execution_count": 38,
   "metadata": {},
   "outputs": [
    {
     "data": {
      "text/plain": [
       "[['Jan', 13200],\n",
       " ['Feb', 13900],\n",
       " ['Mar', 14300],\n",
       " ['Apr', 15000],\n",
       " ['May', 13800],\n",
       " ['Jun', 18000],\n",
       " ['Jul', 14900],\n",
       " ['Aug', 15200],\n",
       " ['Sep', 15300]]"
      ]
     },
     "execution_count": 38,
     "metadata": {},
     "output_type": "execute_result"
    }
   ],
   "source": [
    "income_by_months"
   ]
  },
  {
   "cell_type": "code",
   "execution_count": 39,
   "metadata": {},
   "outputs": [
    {
     "data": {
      "text/plain": [
       "[['Jan', 13200],\n",
       " ['Feb', 13900],\n",
       " ['Mar', 14300],\n",
       " ['Apr', 15000],\n",
       " ['May', 13800],\n",
       " ['Jun', 18000],\n",
       " ['Jul', 14900],\n",
       " ['Aug', 15200]]"
      ]
     },
     "execution_count": 39,
     "metadata": {},
     "output_type": "execute_result"
    }
   ],
   "source": [
    "# Удаляем элемент по индексу\n",
    "del(income_by_months[-1])\n",
    "income_by_months"
   ]
  },
  {
   "cell_type": "code",
   "execution_count": 40,
   "metadata": {},
   "outputs": [
    {
     "name": "stdout",
     "output_type": "stream",
     "text": [
      "['Jan', 'Feb', 'Mar', 'Apr', 'May', 'Jun', 'Jul', 'Aug']\n"
     ]
    }
   ],
   "source": [
    "# удаляем элемент по значению\n",
    "month_list.remove('Sep')\n",
    "print(month_list)"
   ]
  },
  {
   "cell_type": "code",
   "execution_count": 41,
   "metadata": {},
   "outputs": [
    {
     "data": {
      "text/plain": [
       "[['Jan', 13200],\n",
       " ['Feb', 13900],\n",
       " ['Mar', 14300],\n",
       " ['Apr', 15000],\n",
       " ['May', 13800],\n",
       " ['Jun', 18000],\n",
       " ['Jul', 14900],\n",
       " ['Aug', 15200],\n",
       " ['Dec', 17000]]"
      ]
     },
     "execution_count": 41,
     "metadata": {},
     "output_type": "execute_result"
    }
   ],
   "source": [
    "# добавляем элемент в конец списка\n",
    "income_by_months.append(['Dec', 17000])\n",
    "income_by_months"
   ]
  },
  {
   "cell_type": "code",
   "execution_count": 42,
   "metadata": {},
   "outputs": [
    {
     "name": "stdout",
     "output_type": "stream",
     "text": [
      "[13000, 14000, 1111111, 14300, 15000, 13800, 13000, 14900, 15200, 15300]\n"
     ]
    }
   ],
   "source": [
    "# добавляем элемент по нужному индексу\n",
    "income_list.insert(2, 1111111)\n",
    "print(income_list)"
   ]
  },
  {
   "cell_type": "code",
   "execution_count": 43,
   "metadata": {},
   "outputs": [
    {
     "data": {
      "text/plain": [
       "2"
      ]
     },
     "execution_count": 43,
     "metadata": {},
     "output_type": "execute_result"
    }
   ],
   "source": [
    "# считаем количество вхождений элемента в список\n",
    "income_list.count(13000)"
   ]
  },
  {
   "cell_type": "code",
   "execution_count": 44,
   "metadata": {},
   "outputs": [
    {
     "data": {
      "text/plain": [
       "0"
      ]
     },
     "execution_count": 44,
     "metadata": {},
     "output_type": "execute_result"
    }
   ],
   "source": [
    "# узнаем индекс элемента в списка (только первое вхождение!)\n",
    "income_list.index(13000)\n",
    "# income_list.index(13000, 1)"
   ]
  },
  {
   "cell_type": "code",
   "execution_count": 45,
   "metadata": {},
   "outputs": [
    {
     "data": {
      "text/plain": [
       "['Aug', 'Jul', 'Jun', 'May', 'Apr', 'Mar', 'Feb', 'Jan']"
      ]
     },
     "execution_count": 45,
     "metadata": {},
     "output_type": "execute_result"
    }
   ],
   "source": [
    "# разворачиваем список\n",
    "month_list.reverse()\n",
    "month_list"
   ]
  },
  {
   "cell_type": "code",
   "execution_count": 46,
   "metadata": {},
   "outputs": [
    {
     "data": {
      "text/plain": [
       "10"
      ]
     },
     "execution_count": 46,
     "metadata": {},
     "output_type": "execute_result"
    }
   ],
   "source": [
    "# узнаем длину списка\n",
    "len(income_list)"
   ]
  },
  {
   "cell_type": "code",
   "execution_count": 47,
   "metadata": {},
   "outputs": [
    {
     "data": {
      "text/plain": [
       "1239611"
      ]
     },
     "execution_count": 47,
     "metadata": {},
     "output_type": "execute_result"
    }
   ],
   "source": [
    "# сумма элементов\n",
    "sum(income_list)"
   ]
  },
  {
   "cell_type": "code",
   "execution_count": 48,
   "metadata": {},
   "outputs": [
    {
     "data": {
      "text/plain": [
       "1111111"
      ]
     },
     "execution_count": 48,
     "metadata": {},
     "output_type": "execute_result"
    }
   ],
   "source": [
    "# максимальный элемент элементов\n",
    "max(income_list)"
   ]
  },
  {
   "cell_type": "code",
   "execution_count": 49,
   "metadata": {},
   "outputs": [
    {
     "data": {
      "text/plain": [
       "13000"
      ]
     },
     "execution_count": 49,
     "metadata": {},
     "output_type": "execute_result"
    }
   ],
   "source": [
    "# минимальный элемент элементов\n",
    "min(income_list)"
   ]
  },
  {
   "cell_type": "code",
   "execution_count": 50,
   "metadata": {},
   "outputs": [
    {
     "data": {
      "text/plain": [
       "[13000, 13000, 13800, 14000, 14300, 14900, 15000, 15200, 15300, 1111111]"
      ]
     },
     "execution_count": 50,
     "metadata": {},
     "output_type": "execute_result"
    }
   ],
   "source": [
    "# сортировка по возрастанию\n",
    "sorted(income_list)"
   ]
  },
  {
   "cell_type": "code",
   "execution_count": 51,
   "metadata": {},
   "outputs": [
    {
     "data": {
      "text/plain": [
       "[1111111, 15300, 15200, 15000, 14900, 14300, 14000, 13800, 13000, 13000]"
      ]
     },
     "execution_count": 51,
     "metadata": {},
     "output_type": "execute_result"
    }
   ],
   "source": [
    "# изменить порядок сортировки\n",
    "sorted(income_list, reverse= True)"
   ]
  },
  {
   "cell_type": "code",
   "execution_count": 52,
   "metadata": {},
   "outputs": [
    {
     "data": {
      "text/plain": [
       "['Apr', 'Aug', 'Feb', 'Jan', 'Jul', 'Jun', 'Mar', 'May']"
      ]
     },
     "execution_count": 52,
     "metadata": {},
     "output_type": "execute_result"
    }
   ],
   "source": [
    "# а это сортировка строк по алфавиту\n",
    "sorted(month_list)"
   ]
  },
  {
   "cell_type": "markdown",
   "metadata": {},
   "source": [
    "## Изменение списков\n",
    "\n",
    "В примере ниже переменная a и b на самом деле указывают на один и тот же объект. В результате, при добавлении в b очередного элемента этот элемент добавляется и в исходном листе a"
   ]
  },
  {
   "cell_type": "code",
   "execution_count": 53,
   "metadata": {},
   "outputs": [],
   "source": [
    "a = [1, 2, 3]\n",
    "b = a"
   ]
  },
  {
   "cell_type": "code",
   "execution_count": 54,
   "metadata": {},
   "outputs": [
    {
     "data": {
      "text/plain": [
       "'a = [1, 2, 3, 4]'"
      ]
     },
     "execution_count": 54,
     "metadata": {},
     "output_type": "execute_result"
    }
   ],
   "source": [
    "b.append(4)\n",
    "'a = {}'.format(a)"
   ]
  },
  {
   "cell_type": "code",
   "execution_count": 55,
   "metadata": {},
   "outputs": [
    {
     "data": {
      "text/plain": [
       "(140713613781568, 140713613781568)"
      ]
     },
     "execution_count": 55,
     "metadata": {},
     "output_type": "execute_result"
    }
   ],
   "source": [
    "id(a), id(b)"
   ]
  },
  {
   "cell_type": "code",
   "execution_count": 56,
   "metadata": {},
   "outputs": [
    {
     "name": "stdout",
     "output_type": "stream",
     "text": [
      "[1, 2, 3]\n",
      "[1, 2, 3, 4]\n"
     ]
    },
    {
     "data": {
      "text/plain": [
       "(140713613889088, 140713613898240)"
      ]
     },
     "execution_count": 56,
     "metadata": {},
     "output_type": "execute_result"
    }
   ],
   "source": [
    "# создаем копию объекта\n",
    "a = [1, 2, 3]\n",
    "b = list(a)\n",
    "b.append(4)\n",
    "print(a)\n",
    "print(b)\n",
    "id(a), id(b)"
   ]
  },
  {
   "cell_type": "markdown",
   "metadata": {},
   "source": [
    "Используем модуль copy"
   ]
  },
  {
   "cell_type": "code",
   "execution_count": 57,
   "metadata": {},
   "outputs": [],
   "source": [
    "import copy"
   ]
  },
  {
   "cell_type": "code",
   "execution_count": 58,
   "metadata": {},
   "outputs": [],
   "source": [
    "a = [1, 2, 3]\n",
    "b = copy.copy(a)"
   ]
  },
  {
   "cell_type": "code",
   "execution_count": 59,
   "metadata": {},
   "outputs": [
    {
     "data": {
      "text/plain": [
       "(140713613888704, 140713613885696)"
      ]
     },
     "execution_count": 59,
     "metadata": {},
     "output_type": "execute_result"
    }
   ],
   "source": [
    "id(a), id(b)"
   ]
  },
  {
   "cell_type": "code",
   "execution_count": 60,
   "metadata": {},
   "outputs": [
    {
     "name": "stdout",
     "output_type": "stream",
     "text": [
      "a = [1, 2, 3]\n",
      "b = [1, 2, 3, 4]\n"
     ]
    }
   ],
   "source": [
    "b.append(4)\n",
    "print('a = {}'.format(a))\n",
    "\n",
    "print('b = {}'.format(b))"
   ]
  },
  {
   "cell_type": "markdown",
   "metadata": {},
   "source": [
    "## Списки и строки"
   ]
  },
  {
   "cell_type": "code",
   "execution_count": 61,
   "metadata": {},
   "outputs": [],
   "source": [
    "queries_string = \"смотреть сериалы онлайн,новости спорта,афиша кино,курс доллара,сериалы этим летом,курс по питону,сериалы про спорт\""
   ]
  },
  {
   "cell_type": "code",
   "execution_count": 62,
   "metadata": {},
   "outputs": [
    {
     "data": {
      "text/plain": [
       "['смотреть',\n",
       " 'сериалы',\n",
       " 'онлайн,новости',\n",
       " 'спорта,афиша',\n",
       " 'кино,курс',\n",
       " 'доллара,сериалы',\n",
       " 'этим',\n",
       " 'летом,курс',\n",
       " 'по',\n",
       " 'питону,сериалы',\n",
       " 'про',\n",
       " 'спорт']"
      ]
     },
     "execution_count": 62,
     "metadata": {},
     "output_type": "execute_result"
    }
   ],
   "source": [
    "# преобразование строки в список (например, из CSV-файла)\n",
    "queries_string.split(' ')"
   ]
  },
  {
   "cell_type": "code",
   "execution_count": 63,
   "metadata": {},
   "outputs": [
    {
     "data": {
      "text/plain": [
       "'Столбец 1,Столбец 2,Столбец 3'"
      ]
     },
     "execution_count": 63,
     "metadata": {},
     "output_type": "execute_result"
    }
   ],
   "source": [
    "# Преобразование списка в строку\n",
    "\n",
    "','.join(['Столбец 1', 'Столбец 2', 'Столбец 3'])"
   ]
  },
  {
   "cell_type": "code",
   "execution_count": 64,
   "metadata": {},
   "outputs": [
    {
     "data": {
      "text/plain": [
       "False"
      ]
     },
     "execution_count": 64,
     "metadata": {},
     "output_type": "execute_result"
    }
   ],
   "source": [
    "# проверка вхождения элемента в список:\n",
    "\n",
    "# 'Москва' in ['Ленинград', 'Одесса', 'Севастополь', 'Москва']\n",
    "'Москва' not in ['Ленинград', 'Одесса', 'Севастополь', 'Москва']"
   ]
  },
  {
   "cell_type": "markdown",
   "metadata": {},
   "source": [
    "# Tuple (кортежы)"
   ]
  },
  {
   "cell_type": "code",
   "execution_count": 65,
   "metadata": {},
   "outputs": [
    {
     "data": {
      "text/plain": [
       "list"
      ]
     },
     "execution_count": 65,
     "metadata": {},
     "output_type": "execute_result"
    }
   ],
   "source": [
    "salary_tuple = (1000, 1200, 1300, 900, 800)\n",
    "type(salary_tuple)\n",
    "type(list(salary_tuple))"
   ]
  },
  {
   "cell_type": "code",
   "execution_count": 66,
   "metadata": {},
   "outputs": [
    {
     "ename": "TypeError",
     "evalue": "'tuple' object does not support item assignment",
     "output_type": "error",
     "traceback": [
      "\u001b[0;31m---------------------------------------------------------------------------\u001b[0m",
      "\u001b[0;31mTypeError\u001b[0m                                 Traceback (most recent call last)",
      "\u001b[0;32m<ipython-input-66-f9322f03a403>\u001b[0m in \u001b[0;36m<module>\u001b[0;34m\u001b[0m\n\u001b[1;32m      1\u001b[0m \u001b[0;31m# print(salary_tuple[0])\u001b[0m\u001b[0;34m\u001b[0m\u001b[0;34m\u001b[0m\u001b[0;34m\u001b[0m\u001b[0m\n\u001b[0;32m----> 2\u001b[0;31m \u001b[0msalary_tuple\u001b[0m\u001b[0;34m[\u001b[0m\u001b[0;36m0\u001b[0m\u001b[0;34m]\u001b[0m \u001b[0;34m=\u001b[0m \u001b[0;36m500\u001b[0m\u001b[0;34m\u001b[0m\u001b[0;34m\u001b[0m\u001b[0m\n\u001b[0m",
      "\u001b[0;31mTypeError\u001b[0m: 'tuple' object does not support item assignment"
     ]
    }
   ],
   "source": [
    "# print(salary_tuple[0])\n",
    "salary_tuple[0] = 500"
   ]
  },
  {
   "cell_type": "code",
   "execution_count": 67,
   "metadata": {},
   "outputs": [],
   "source": [
    "# кортеж из одного элемента задается так:\n",
    "t = ('one', )"
   ]
  },
  {
   "cell_type": "code",
   "execution_count": 68,
   "metadata": {},
   "outputs": [
    {
     "data": {
      "text/plain": [
       "str"
      ]
     },
     "execution_count": 68,
     "metadata": {},
     "output_type": "execute_result"
    }
   ],
   "source": [
    "# без запятой получится строка\n",
    "type( ('one') )"
   ]
  },
  {
   "cell_type": "code",
   "execution_count": 69,
   "metadata": {},
   "outputs": [
    {
     "name": "stdout",
     "output_type": "stream",
     "text": [
      "[('Jane', 800), ('Richard', 900), ('Robert', 1000), ('John', 1200), ('Liza', 1300)]\n"
     ]
    }
   ],
   "source": [
    "# функция zip\n",
    "salaries = set([1000, 1200, 1300, 900, 800, 1000])\n",
    "names = set(['Robert', 'Jane', 'Liza', 'Richard', 'John'])\n",
    "salaries_by_names = zip(names, salaries)\n",
    "# print(salaries_by_names)\n",
    "print(list(salaries_by_names))"
   ]
  },
  {
   "cell_type": "markdown",
   "metadata": {},
   "source": [
    "# Циклы"
   ]
  },
  {
   "cell_type": "markdown",
   "metadata": {},
   "source": [
    "## Цикл while"
   ]
  },
  {
   "cell_type": "code",
   "execution_count": 70,
   "metadata": {},
   "outputs": [
    {
     "name": "stdout",
     "output_type": "stream",
     "text": [
      "4\n",
      "3\n",
      "2\n",
      "1\n",
      "0\n"
     ]
    }
   ],
   "source": [
    "x = 5\n",
    "while x != 0:\n",
    "#     x = x / 1\n",
    "    x -= 1\n",
    "    print(x)"
   ]
  },
  {
   "cell_type": "code",
   "execution_count": 71,
   "metadata": {},
   "outputs": [
    {
     "name": "stdout",
     "output_type": "stream",
     "text": [
      "7 - нечетное число\n",
      "6 - четное число\n",
      "5 - нечетное число\n",
      "4 - четное число\n",
      "3 - нечетное число\n",
      "2 - четное число\n",
      "1 - нечетное число\n"
     ]
    }
   ],
   "source": [
    "x = 7\n",
    "while x != 0:\n",
    "    if x % 2 == 0:\n",
    "        print(x, '- четное число')\n",
    "    else:\n",
    "        print(x, '- нечетное число')\n",
    "    x = x - 1"
   ]
  },
  {
   "cell_type": "code",
   "execution_count": 72,
   "metadata": {},
   "outputs": [
    {
     "name": "stdout",
     "output_type": "stream",
     "text": [
      "\n"
     ]
    },
    {
     "ename": "ValueError",
     "evalue": "invalid literal for int() with base 10: ''",
     "output_type": "error",
     "traceback": [
      "\u001b[0;31m---------------------------------------------------------------------------\u001b[0m",
      "\u001b[0;31mValueError\u001b[0m                                Traceback (most recent call last)",
      "\u001b[0;32m<ipython-input-72-899ffbd5e469>\u001b[0m in \u001b[0;36m<module>\u001b[0;34m\u001b[0m\n\u001b[1;32m      3\u001b[0m \u001b[0ma\u001b[0m \u001b[0;34m=\u001b[0m \u001b[0;34m''\u001b[0m\u001b[0;34m\u001b[0m\u001b[0;34m\u001b[0m\u001b[0m\n\u001b[1;32m      4\u001b[0m \u001b[0;32mwhile\u001b[0m \u001b[0ma\u001b[0m \u001b[0;34m!=\u001b[0m \u001b[0;36m0\u001b[0m\u001b[0;34m:\u001b[0m\u001b[0;34m\u001b[0m\u001b[0;34m\u001b[0m\u001b[0m\n\u001b[0;32m----> 5\u001b[0;31m     \u001b[0ma\u001b[0m \u001b[0;34m=\u001b[0m \u001b[0mint\u001b[0m\u001b[0;34m(\u001b[0m\u001b[0minput\u001b[0m\u001b[0;34m(\u001b[0m\u001b[0;34m)\u001b[0m\u001b[0;34m)\u001b[0m\u001b[0;34m\u001b[0m\u001b[0;34m\u001b[0m\u001b[0m\n\u001b[0m\u001b[1;32m      6\u001b[0m     \u001b[0msum_\u001b[0m \u001b[0;34m+=\u001b[0m \u001b[0ma\u001b[0m\u001b[0;34m\u001b[0m\u001b[0;34m\u001b[0m\u001b[0m\n\u001b[1;32m      7\u001b[0m \u001b[0msum_\u001b[0m\u001b[0;34m\u001b[0m\u001b[0;34m\u001b[0m\u001b[0m\n",
      "\u001b[0;31mValueError\u001b[0m: invalid literal for int() with base 10: ''"
     ]
    }
   ],
   "source": [
    "# будем запрашивать целые числа до тех пор, пока не будет введен 0 и выведем сумму полученных чисел\n",
    "sum_ = 0\n",
    "a = ''\n",
    "while a != 0:\n",
    "    a = int(input())\n",
    "    sum_ += a  \n",
    "sum_"
   ]
  },
  {
   "cell_type": "markdown",
   "metadata": {},
   "source": [
    "## Цикл for"
   ]
  },
  {
   "cell_type": "code",
   "execution_count": 73,
   "metadata": {},
   "outputs": [
    {
     "name": "stdout",
     "output_type": "stream",
     "text": [
      "O\n",
      "r\n",
      "a\n",
      "n\n",
      "g\n",
      "e\n",
      "e\n"
     ]
    }
   ],
   "source": [
    "# итерация по строкам\n",
    "company_name = 'Orange'\n",
    "for letter in company_name:\n",
    "#    print(letter)\n",
    "#    letter = letter.capitalize()\n",
    "     print(letter)\n",
    "print(letter)"
   ]
  },
  {
   "cell_type": "code",
   "execution_count": 74,
   "metadata": {},
   "outputs": [
    {
     "name": "stdout",
     "output_type": "stream",
     "text": [
      "Orange capitalization is 1.3\n",
      "Maxisoft capitalization is 1.5\n",
      "Headbook capitalization is 0.8\n",
      "Nicola capitalization is 2.2\n"
     ]
    }
   ],
   "source": [
    "# итерация по спискам\n",
    "companies_capitalization = [\n",
    " ['Orange', 1.3],\n",
    " ['Maxisoft', 1.5],\n",
    " ['Headbook', 0.8],\n",
    " ['Nicola', 2.2]\n",
    "]\n",
    "for company in companies_capitalization:\n",
    "#     print(company)\n",
    "    print(company[0], 'capitalization is', company[1])\n",
    "#     print('end of iteration')"
   ]
  },
  {
   "cell_type": "markdown",
   "metadata": {},
   "source": [
    "## break, pass, continue"
   ]
  },
  {
   "cell_type": "code",
   "execution_count": 75,
   "metadata": {},
   "outputs": [],
   "source": [
    "phrase = '640Кб должно хватить для любых задач. Билл Гейтс (по легенде)'"
   ]
  },
  {
   "cell_type": "code",
   "execution_count": 76,
   "metadata": {},
   "outputs": [
    {
     "name": "stdout",
     "output_type": "stream",
     "text": [
      "640Кб"
     ]
    }
   ],
   "source": [
    "for letter in phrase:\n",
    "    if letter == ' ':\n",
    "        break\n",
    "    print(letter, end='')"
   ]
  },
  {
   "cell_type": "code",
   "execution_count": 77,
   "metadata": {},
   "outputs": [
    {
     "name": "stdout",
     "output_type": "stream",
     "text": [
      "6\n",
      "4\n",
      "0\n",
      "К\n",
      "б\n",
      "д\n",
      "о\n",
      "л\n",
      "ж\n",
      "н\n",
      "о\n",
      "х\n",
      "в\n",
      "а\n",
      "т\n",
      "и\n",
      "т\n",
      "ь\n",
      "д\n",
      "л\n",
      "я\n",
      "л\n",
      "ю\n",
      "б\n",
      "ы\n",
      "х\n",
      "з\n",
      "а\n",
      "д\n",
      "а\n",
      "ч\n",
      ".\n",
      "Б\n",
      "и\n",
      "л\n",
      "л\n",
      "Г\n",
      "е\n",
      "й\n",
      "т\n",
      "с\n",
      "(\n",
      "п\n",
      "о\n",
      "л\n",
      "е\n",
      "г\n",
      "е\n",
      "н\n",
      "д\n",
      "е\n",
      ")\n",
      "finish loop\n"
     ]
    }
   ],
   "source": [
    "for letter in phrase:\n",
    "    if letter == ' ':\n",
    "        continue\n",
    "    print(letter)\n",
    "print('finish loop')"
   ]
  },
  {
   "cell_type": "code",
   "execution_count": 78,
   "metadata": {},
   "outputs": [
    {
     "name": "stdout",
     "output_type": "stream",
     "text": [
      "6\n",
      "4\n",
      "0\n",
      "К\n",
      "б\n",
      " \n",
      "д\n",
      "о\n",
      "л\n",
      "ж\n",
      "н\n",
      "о\n",
      " \n",
      "х\n",
      "в\n",
      "а\n",
      "т\n",
      "и\n",
      "т\n",
      "ь\n",
      " \n",
      "д\n",
      "л\n",
      "я\n",
      " \n",
      "л\n",
      "ю\n",
      "б\n",
      "ы\n",
      "х\n",
      " \n",
      "з\n",
      "а\n",
      "д\n",
      "а\n",
      "ч\n",
      ".\n",
      " \n",
      "Б\n",
      "и\n",
      "л\n",
      "л\n",
      " \n",
      "Г\n",
      "е\n",
      "й\n",
      "т\n",
      "с\n",
      " \n",
      "(\n",
      "п\n",
      "о\n",
      " \n",
      "л\n",
      "е\n",
      "г\n",
      "е\n",
      "н\n",
      "д\n",
      "е\n",
      ")\n",
      "finish loop\n"
     ]
    }
   ],
   "source": [
    "for letter in phrase:\n",
    "    if letter == ' ':\n",
    "        pass\n",
    "    print(letter)\n",
    "print('finish loop')"
   ]
  },
  {
   "cell_type": "markdown",
   "metadata": {},
   "source": [
    "### Функции range и enumerate"
   ]
  },
  {
   "cell_type": "code",
   "execution_count": 79,
   "metadata": {},
   "outputs": [
    {
     "data": {
      "text/plain": [
       "range"
      ]
     },
     "execution_count": 79,
     "metadata": {},
     "output_type": "execute_result"
    }
   ],
   "source": [
    "range(10)\n",
    "type(range(10))"
   ]
  },
  {
   "cell_type": "code",
   "execution_count": 80,
   "metadata": {},
   "outputs": [
    {
     "data": {
      "text/plain": [
       "[2, 7]"
      ]
     },
     "execution_count": 80,
     "metadata": {},
     "output_type": "execute_result"
    }
   ],
   "source": [
    "list(range(2, 10, 5))"
   ]
  },
  {
   "cell_type": "code",
   "execution_count": 81,
   "metadata": {},
   "outputs": [
    {
     "name": "stdout",
     "output_type": "stream",
     "text": [
      "0\n",
      "1\n",
      "2\n",
      "3\n",
      "4\n",
      "5\n",
      "6\n",
      "7\n",
      "8\n",
      "9\n"
     ]
    }
   ],
   "source": [
    "for i in range(10):\n",
    "    print(i)"
   ]
  },
  {
   "cell_type": "code",
   "execution_count": 82,
   "metadata": {},
   "outputs": [
    {
     "name": "stdout",
     "output_type": "stream",
     "text": [
      "3\n",
      "4\n",
      "5\n",
      "6\n",
      "7\n",
      "8\n",
      "9\n",
      "10\n",
      "11\n",
      "12\n",
      "13\n",
      "14\n",
      "15\n",
      "16\n",
      "17\n",
      "18\n",
      "19\n"
     ]
    }
   ],
   "source": [
    "# с указанием левой и правой границы\n",
    "for i in range(3, 20):\n",
    "    print(i)"
   ]
  },
  {
   "cell_type": "code",
   "execution_count": 83,
   "metadata": {},
   "outputs": [
    {
     "name": "stdout",
     "output_type": "stream",
     "text": [
      "3\n",
      "8\n",
      "13\n",
      "18\n"
     ]
    }
   ],
   "source": [
    "# третий аргумент - шаг\n",
    "for i in range(3, 20, 5):\n",
    "    print(i)"
   ]
  },
  {
   "cell_type": "code",
   "execution_count": 84,
   "metadata": {},
   "outputs": [
    {
     "data": {
      "text/plain": [
       "[(0, 1), (1, 2), (2, 3), (3, 4), (4, 5)]"
      ]
     },
     "execution_count": 84,
     "metadata": {},
     "output_type": "execute_result"
    }
   ],
   "source": [
    "# enumerate позволяет получить индекс каждого элемента\n",
    "# enumerate([1, 2, 3, 4, 5])\n",
    "list(enumerate([1, 2, 3, 4, 5]))"
   ]
  },
  {
   "cell_type": "code",
   "execution_count": 85,
   "metadata": {},
   "outputs": [
    {
     "name": "stdout",
     "output_type": "stream",
     "text": [
      "1 Orange capitalization is 1.3\n",
      "2 Maxisoft capitalization is 1.5\n",
      "3 Headbook capitalization is 0.8\n",
      "4 Nicola capitalization is 2.2\n"
     ]
    }
   ],
   "source": [
    "companies_capitalization = [\n",
    " ['Orange', 1.3],\n",
    " ['Maxisoft', 1.5],\n",
    " ['Headbook', 0.8],\n",
    " ['Nicola', 2.2]\n",
    "]\n",
    "for i, company in enumerate(companies_capitalization):\n",
    "    print(i+1, company[0], 'capitalization is', company[1])"
   ]
  },
  {
   "cell_type": "markdown",
   "metadata": {},
   "source": [
    "## Попрактикуемся"
   ]
  },
  {
   "cell_type": "markdown",
   "metadata": {},
   "source": [
    "Имеется структура данных cook_book, в которой хранится информация об ингредиентах блюд и их количестве в расчете на одну порцию и переменная, в которой хранится количество людей, на которых необходимо приготовить данные блюда:"
   ]
  },
  {
   "cell_type": "code",
   "execution_count": 86,
   "metadata": {},
   "outputs": [],
   "source": [
    "cook_book = [\n",
    "  ['салат',\n",
    "      [\n",
    "        ['картофель', 100, 'гр.'],\n",
    "        ['морковь', 50, 'гр.'],\n",
    "        ['огурцы', 50, 'гр.'],\n",
    "        ['горошек', 30, 'гр.'],\n",
    "        ['майонез', 70, 'мл.'],\n",
    "      ]\n",
    "  ],\n",
    "  ['пицца',  \n",
    "      [\n",
    "        ['сыр', 50, 'гр.'],\n",
    "        ['томаты', 50, 'гр.'],\n",
    "        ['тесто', 100, 'гр.'],\n",
    "        ['бекон', 30, 'гр.'],\n",
    "        ['колбаса', 30, 'гр.'],\n",
    "        ['грибы', 20, 'гр.'],\n",
    "      ],\n",
    "  ],\n",
    "  ['фруктовый десерт',\n",
    "      [\n",
    "        ['хурма', 60, 'гр.'],\n",
    "        ['киви', 60, 'гр.'],\n",
    "        ['творог', 60, 'гр.'],\n",
    "        ['сахар', 10, 'гр.'],\n",
    "        ['мед', 50, 'мл.'],  \n",
    "      ]\n",
    "  ]\n",
    "]\n"
   ]
  },
  {
   "cell_type": "code",
   "execution_count": 87,
   "metadata": {},
   "outputs": [],
   "source": [
    "person = 5"
   ]
  },
  {
   "cell_type": "markdown",
   "metadata": {},
   "source": [
    "Необходимо вывести пользователю список покупок необходимого количества ингредиентов для приготовления блюд на определенное число персон в следующем виде:"
   ]
  },
  {
   "cell_type": "markdown",
   "metadata": {},
   "source": [
    "Салат:  \n",
    "картофель, 500гр.  \n",
    "морковь, 250гр.  \n",
    "огурцы, 250гр.  \n",
    "горошек, 150гр.  \n",
    "майонез, 350мл.  \n",
    "\n",
    "Пицца:  \n",
    "сыр, 250гр.  \n",
    "томаты, 250гр.  \n",
    "тесто, 500гр.  \n",
    "бекон, 150гр.  \n",
    "колбаса, 150гр.  \n",
    "грибы, 100гр.  \n",
    "\n",
    "Фруктовый десерт:  \n",
    "хурма, 300гр.  \n",
    "киви, 300гр.  \n",
    "творог, 300гр.  \n",
    "сахар, 50гр.  \n",
    "мед, 250мл.  "
   ]
  },
  {
   "cell_type": "code",
   "execution_count": 88,
   "metadata": {},
   "outputs": [
    {
     "name": "stdout",
     "output_type": "stream",
     "text": [
      "салат:\n",
      "картофель, 500гр.\n",
      "морковь, 250гр.\n",
      "огурцы, 250гр.\n",
      "горошек, 150гр.\n",
      "майонез, 350мл.\n",
      "\n",
      "пицца:\n",
      "сыр, 250гр.\n",
      "томаты, 250гр.\n",
      "тесто, 500гр.\n",
      "бекон, 150гр.\n",
      "колбаса, 150гр.\n",
      "грибы, 100гр.\n",
      "\n",
      "фруктовый десерт:\n",
      "хурма, 300гр.\n",
      "киви, 300гр.\n",
      "творог, 300гр.\n",
      "сахар, 50гр.\n",
      "мед, 250мл.\n",
      "\n"
     ]
    }
   ],
   "source": [
    "for i in range(len(cook_book)):\n",
    "    print(cook_book[i][0],':', sep = '')\n",
    "    for elem in cook_book[i][1]:\n",
    "        print(elem[0] + ', ', elem[1] * person, elem[2], sep = '')\n",
    "    print()"
   ]
  },
  {
   "cell_type": "markdown",
   "metadata": {},
   "source": [
    "## List comprehension"
   ]
  },
  {
   "cell_type": "code",
   "execution_count": 89,
   "metadata": {},
   "outputs": [
    {
     "data": {
      "text/plain": [
       "[0, 3, 6, 9, 12, 15, 18, 21, 24, 27, 30, 33, 36, 39]"
      ]
     },
     "execution_count": 89,
     "metadata": {},
     "output_type": "execute_result"
    }
   ],
   "source": [
    "# Дана последовательность чисел. Мы хотим оставить только те, что делятся на 5\n",
    "sequence = range(0, 40, 3)\n",
    "list(sequence)"
   ]
  },
  {
   "cell_type": "code",
   "execution_count": 90,
   "metadata": {},
   "outputs": [
    {
     "name": "stdout",
     "output_type": "stream",
     "text": [
      "0\n",
      "15\n",
      "30\n"
     ]
    }
   ],
   "source": [
    "# решение в лоб\n",
    "for num in sequence:\n",
    "    if num % 5 == 0:\n",
    "        print(num)"
   ]
  },
  {
   "cell_type": "code",
   "execution_count": 91,
   "metadata": {},
   "outputs": [
    {
     "name": "stdout",
     "output_type": "stream",
     "text": [
      "[0, 15, 30]\n"
     ]
    }
   ],
   "source": [
    "# если хотим получить отфильтрованный лист, то будет даже так\n",
    "filtered_sequence = []\n",
    "\n",
    "for num in sequence:\n",
    "    if num % 5 == 0:\n",
    "        filtered_sequence.append(num)\n",
    "\n",
    "print(filtered_sequence)"
   ]
  },
  {
   "cell_type": "code",
   "execution_count": 92,
   "metadata": {},
   "outputs": [
    {
     "data": {
      "text/plain": [
       "[0, 15, 30]"
      ]
     },
     "execution_count": 92,
     "metadata": {},
     "output_type": "execute_result"
    }
   ],
   "source": [
    "[num for num in sequence if num % 5 == 0]"
   ]
  },
  {
   "cell_type": "code",
   "execution_count": 93,
   "metadata": {},
   "outputs": [
    {
     "data": {
      "text/plain": [
       "[0, 15, 30]"
      ]
     },
     "execution_count": 93,
     "metadata": {},
     "output_type": "execute_result"
    }
   ],
   "source": [
    "[w for w in sequence if w % 5 == 0]"
   ]
  },
  {
   "cell_type": "code",
   "execution_count": 94,
   "metadata": {},
   "outputs": [
    {
     "data": {
      "text/plain": [
       "[0, 225, 900]"
      ]
     },
     "execution_count": 94,
     "metadata": {},
     "output_type": "execute_result"
    }
   ],
   "source": [
    "# с list comprehension получается покороче\n",
    "\n",
    "[x**2 for x in sequence if x % 5 == 0]"
   ]
  },
  {
   "cell_type": "markdown",
   "metadata": {},
   "source": [
    "Пример вычисления метрики из набора списков. Столбцы в каждой строке:\n",
    "- дата\n",
    "- номер счетчика\n",
    "- количество визитов\n",
    "\n",
    "Найдем среднее количество визитов по нашим данным"
   ]
  },
  {
   "cell_type": "code",
   "execution_count": 95,
   "metadata": {},
   "outputs": [],
   "source": [
    "api_response = [\n",
    "    ['2017-12-26', '777', 184],\n",
    "    ['2017-12-27', '111', 146],\n",
    "    ['2017-12-28', '777', 98],\n",
    "    ['2017-12-29', '777', 206],\n",
    "    ['2017-12-30', '111', 254],\n",
    "    ['2017-12-31', '777', 89],\n",
    "    ['2018-01-01', '111', 54],\n",
    "    ['2018-01-02', '777', 68],\n",
    "    ['2018-01-03', '777', 74],\n",
    "    ['2018-01-04', '111', 89],\n",
    "    ['2018-01-05', '777', 104],\n",
    "    ['2018-01-06', '777', 99],\n",
    "    ['2018-01-07', '777', 145],\n",
    "    ['2018-01-08', '111', 184],\n",
    "]"
   ]
  },
  {
   "cell_type": "code",
   "execution_count": 96,
   "metadata": {},
   "outputs": [
    {
     "name": "stdout",
     "output_type": "stream",
     "text": [
      "184\n",
      "146\n",
      "98\n",
      "206\n",
      "254\n",
      "89\n",
      "54\n",
      "68\n",
      "74\n",
      "89\n",
      "104\n",
      "99\n",
      "145\n",
      "184\n"
     ]
    }
   ],
   "source": [
    "for element in api_response:\n",
    "    print(element[2])"
   ]
  },
  {
   "cell_type": "code",
   "execution_count": 97,
   "metadata": {},
   "outputs": [
    {
     "data": {
      "text/plain": [
       "128.14285714285714"
      ]
     },
     "execution_count": 97,
     "metadata": {},
     "output_type": "execute_result"
    }
   ],
   "source": [
    "sum([x[2] for x in api_response])/len(api_response)"
   ]
  },
  {
   "cell_type": "markdown",
   "metadata": {},
   "source": [
    "## Попрактикуемся\n",
    "\n",
    "Имеется поток данных о ценах товаров (считайте, что цена всегда больше 0). Необходимо написать алгоритм определения минимального четного числа в этом потоке."
   ]
  },
  {
   "cell_type": "code",
   "execution_count": 98,
   "metadata": {},
   "outputs": [],
   "source": [
    "# sys_stdin сейчас просто название переменной\n",
    "sys_stdin = [78, 68, 484, 3, 254, 90, 143, 78, 43, 42, 3053, 473, 5, 8593, 16, 3, 1454, 37, 96, 8547]"
   ]
  },
  {
   "cell_type": "code",
   "execution_count": 100,
   "metadata": {},
   "outputs": [
    {
     "data": {
      "text/plain": [
       "16"
      ]
     },
     "execution_count": 100,
     "metadata": {},
     "output_type": "execute_result"
    }
   ],
   "source": [
    "min([x for x in sys_stdin if x % 2 == 0])"
   ]
  },
  {
   "cell_type": "code",
   "execution_count": null,
   "metadata": {},
   "outputs": [],
   "source": []
  },
  {
   "cell_type": "markdown",
   "metadata": {},
   "source": [
    "## Множества (set)\n",
    "Набор неповторяющихся элементов в случайном порядке"
   ]
  },
  {
   "cell_type": "code",
   "execution_count": 101,
   "metadata": {},
   "outputs": [],
   "source": [
    "data_scientist_skills = set(['Python', 'R', 'SQL', 'Tableau', 'SAS', 'Git'])\n",
    "data_engineer_skills = set(['Python', 'Java', 'Scala', 'Git', 'SQL', 'Hadoop'])"
   ]
  },
  {
   "cell_type": "code",
   "execution_count": 102,
   "metadata": {},
   "outputs": [
    {
     "name": "stdout",
     "output_type": "stream",
     "text": [
      "{'Python', 'Tableau', 'R', 'Git', 'SAS', 'Scala', 'SQL', 'Java', 'Hadoop'}\n",
      "{'Python', 'Tableau', 'R', 'Git', 'SAS', 'Scala', 'SQL', 'Java', 'Hadoop'}\n"
     ]
    }
   ],
   "source": [
    "# логическое ИЛИ – что нужно знать data-scientst, который по совместительству data-engineer\n",
    "print(data_scientist_skills.union(data_engineer_skills))\n",
    "print(data_scientist_skills | data_engineer_skills)"
   ]
  },
  {
   "cell_type": "code",
   "execution_count": 103,
   "metadata": {},
   "outputs": [
    {
     "name": "stdout",
     "output_type": "stream",
     "text": [
      "{'Python', 'Git', 'SQL'}\n",
      "{'Python', 'Git', 'SQL'}\n"
     ]
    }
   ],
   "source": [
    "# логическое И – что нужно знать и data-scientist и data-engineer\n",
    "print(data_scientist_skills.intersection(data_engineer_skills))\n",
    "print(data_scientist_skills & data_engineer_skills)"
   ]
  },
  {
   "cell_type": "code",
   "execution_count": 104,
   "metadata": {},
   "outputs": [
    {
     "name": "stdout",
     "output_type": "stream",
     "text": [
      "{'Java', 'Hadoop', 'Scala'}\n",
      "{'Java', 'Hadoop', 'Scala'}\n"
     ]
    }
   ],
   "source": [
    "# разность множеств – что знает data-scientist, но не знает data-engineer (и наоборот)\n",
    "# print(data_scientist_skills.difference(data_engineer_skills))\n",
    "# print(data_scientist_skills - data_engineer_skills)\n",
    "print(data_engineer_skills.difference(data_scientist_skills))\n",
    "print(data_engineer_skills - data_scientist_skills)"
   ]
  },
  {
   "cell_type": "code",
   "execution_count": 105,
   "metadata": {
    "scrolled": true
   },
   "outputs": [
    {
     "name": "stdout",
     "output_type": "stream",
     "text": [
      "{'Tableau', 'R', 'Java', 'Hadoop', 'SAS', 'Scala'}\n",
      "{'Tableau', 'R', 'Java', 'Hadoop', 'SAS', 'Scala'}\n"
     ]
    }
   ],
   "source": [
    "# симметричная разность множеств – что такого знают data-scientist и data-engineer, чего не знают они оба\n",
    "# print(data_scientist_skills.symmetric_difference(data_engineer_skills))\n",
    "# print(data_scientist_skills ^ data_engineer_skills)\n",
    "print(data_engineer_skills.symmetric_difference(data_scientist_skills))\n",
    "print(data_engineer_skills ^ data_scientist_skills)"
   ]
  },
  {
   "cell_type": "code",
   "execution_count": 106,
   "metadata": {},
   "outputs": [],
   "source": [
    "# Из списка можно убрать все повторения просто обратив его в set!"
   ]
  },
  {
   "cell_type": "markdown",
   "metadata": {},
   "source": [
    "# Словари"
   ]
  },
  {
   "cell_type": "code",
   "execution_count": 107,
   "metadata": {},
   "outputs": [],
   "source": [
    "salaries = {\n",
    "    'John': 1200,\n",
    "    'Mary': 500,\n",
    "    'Steven': 1000,\n",
    "    'Liza': 1500\n",
    "}"
   ]
  },
  {
   "cell_type": "code",
   "execution_count": 108,
   "metadata": {},
   "outputs": [
    {
     "data": {
      "text/plain": [
       "1200"
      ]
     },
     "execution_count": 108,
     "metadata": {},
     "output_type": "execute_result"
    }
   ],
   "source": [
    "# обращение к элементу словаря\n",
    "salaries['John']"
   ]
  },
  {
   "cell_type": "code",
   "execution_count": 109,
   "metadata": {},
   "outputs": [
    {
     "data": {
      "text/plain": [
       "{'John': 1200, 'Mary': 500, 'Steven': 1000}"
      ]
     },
     "execution_count": 109,
     "metadata": {},
     "output_type": "execute_result"
    }
   ],
   "source": [
    "# удаляем элемент из словаря\n",
    "del(salaries['Liza'])\n",
    "salaries"
   ]
  },
  {
   "cell_type": "code",
   "execution_count": 110,
   "metadata": {},
   "outputs": [
    {
     "data": {
      "text/plain": [
       "{'John': 1200, 'Mary': 500, 'Steven': 1000, 'James': 2000}"
      ]
     },
     "execution_count": 110,
     "metadata": {},
     "output_type": "execute_result"
    }
   ],
   "source": [
    "# добавляем элемент в словарь\n",
    "salaries['James'] = 2000\n",
    "salaries"
   ]
  },
  {
   "cell_type": "code",
   "execution_count": 111,
   "metadata": {},
   "outputs": [
    {
     "data": {
      "text/plain": [
       "{'John': 1200, 'Mary': 2000, 'Steven': 1000, 'James': 2000}"
      ]
     },
     "execution_count": 111,
     "metadata": {},
     "output_type": "execute_result"
    }
   ],
   "source": [
    "# изменяем значение по ключу\n",
    "salaries['Mary'] = 2000\n",
    "salaries"
   ]
  },
  {
   "cell_type": "code",
   "execution_count": 112,
   "metadata": {},
   "outputs": [
    {
     "ename": "KeyError",
     "evalue": "'Oleg'",
     "output_type": "error",
     "traceback": [
      "\u001b[0;31m---------------------------------------------------------------------------\u001b[0m",
      "\u001b[0;31mKeyError\u001b[0m                                  Traceback (most recent call last)",
      "\u001b[0;32m<ipython-input-112-d842637e0afb>\u001b[0m in \u001b[0;36m<module>\u001b[0;34m\u001b[0m\n\u001b[1;32m      1\u001b[0m \u001b[0;31m# безопасно получаем значение по ключу\u001b[0m\u001b[0;34m\u001b[0m\u001b[0;34m\u001b[0m\u001b[0;34m\u001b[0m\u001b[0m\n\u001b[0;32m----> 2\u001b[0;31m \u001b[0msalaries\u001b[0m\u001b[0;34m[\u001b[0m\u001b[0;34m'Oleg'\u001b[0m\u001b[0;34m]\u001b[0m\u001b[0;34m\u001b[0m\u001b[0;34m\u001b[0m\u001b[0m\n\u001b[0m\u001b[1;32m      3\u001b[0m \u001b[0;31m# salaries.get('Oleg', 'Not Found')\u001b[0m\u001b[0;34m\u001b[0m\u001b[0;34m\u001b[0m\u001b[0;34m\u001b[0m\u001b[0m\n\u001b[1;32m      4\u001b[0m \u001b[0msalaries\u001b[0m\u001b[0;34m.\u001b[0m\u001b[0mget\u001b[0m\u001b[0;34m(\u001b[0m\u001b[0;34m'Mary'\u001b[0m\u001b[0;34m,\u001b[0m \u001b[0;34m'Not Found'\u001b[0m\u001b[0;34m)\u001b[0m\u001b[0;34m\u001b[0m\u001b[0;34m\u001b[0m\u001b[0m\n",
      "\u001b[0;31mKeyError\u001b[0m: 'Oleg'"
     ]
    }
   ],
   "source": [
    "# безопасно получаем значение по ключу\n",
    "salaries['Oleg']\n",
    "# salaries.get('Oleg', 'Not Found')\n",
    "salaries.get('Mary', 'Not Found')"
   ]
  },
  {
   "cell_type": "code",
   "execution_count": 113,
   "metadata": {},
   "outputs": [
    {
     "name": "stdout",
     "output_type": "stream",
     "text": [
      "Добавляю новый ключ\n",
      "{'John': 1200, 'Mary': 2000, 'Steven': 1000, 'James': 2000, 'Amanda': 2200}\n"
     ]
    }
   ],
   "source": [
    "# проверка на наличие ключа в словаре\n",
    "recruit = 'Amanda'\n",
    "\n",
    "if recruit in salaries:\n",
    "    print('Значение для ключа уже существует')\n",
    "else:\n",
    "    print('Добавляю новый ключ')\n",
    "    salaries[recruit] = 2200\n",
    "\n",
    "print(salaries)"
   ]
  },
  {
   "cell_type": "code",
   "execution_count": 114,
   "metadata": {},
   "outputs": [
    {
     "data": {
      "text/plain": [
       "{'John': 1200, 'Mary': 2000, 'Steven': 1000, 'James': 2000, 'Amanda': 2200}"
      ]
     },
     "execution_count": 114,
     "metadata": {},
     "output_type": "execute_result"
    }
   ],
   "source": [
    "# Можно использовать метод setdefault\n",
    "# setdefault не изменяет значение, если ключ уже был в словаре\n",
    "\n",
    "salaries.setdefault('Mary', 3000)\n",
    "salaries\n",
    "# salaries.setdefault('Paul', 3000)\n",
    "# salaries"
   ]
  },
  {
   "cell_type": "code",
   "execution_count": 115,
   "metadata": {},
   "outputs": [],
   "source": [
    "# перейдем к более сложному словарю\n",
    "staff_dict = {\n",
    "    'Robert': {'salary': 800, 'bonus': 200}, \n",
    "    'Jane': {'salary': 200, 'bonus': 300}, \n",
    "    'Liza': {'salary': 1300, 'bonus': 200}, \n",
    "    'Richard': {'salary': 500, 'bonus': 1200}\n",
    "}"
   ]
  },
  {
   "cell_type": "code",
   "execution_count": 116,
   "metadata": {},
   "outputs": [
    {
     "data": {
      "text/plain": [
       "800"
      ]
     },
     "execution_count": 116,
     "metadata": {},
     "output_type": "execute_result"
    }
   ],
   "source": [
    "staff_dict['Robert']['salary']"
   ]
  },
  {
   "cell_type": "code",
   "execution_count": 117,
   "metadata": {},
   "outputs": [
    {
     "data": {
      "text/plain": [
       "{'Robert': {'salary': 800, 'bonus': 200},\n",
       " 'Jane': {'salary': 200, 'bonus': 300},\n",
       " 'Liza': {'salary': 1300, 'bonus': 200},\n",
       " 'Richard': {'salary': 500, 'bonus': 1200},\n",
       " 'Oleg': {'salary': 1000000, 'bonus': 300}}"
      ]
     },
     "execution_count": 117,
     "metadata": {},
     "output_type": "execute_result"
    }
   ],
   "source": [
    "staff_dict['Oleg'] = {'salary': 1000000, 'bonus': 300}\n",
    "staff_dict"
   ]
  },
  {
   "cell_type": "code",
   "execution_count": 118,
   "metadata": {},
   "outputs": [
    {
     "name": "stdout",
     "output_type": "stream",
     "text": [
      "dict_items([('Robert', {'salary': 800, 'bonus': 200}), ('Jane', {'salary': 200, 'bonus': 300}), ('Liza', {'salary': 1300, 'bonus': 200}), ('Richard', {'salary': 500, 'bonus': 1200}), ('Oleg', {'salary': 1000000, 'bonus': 300})])\n",
      "[('Robert', {'salary': 800, 'bonus': 200}), ('Jane', {'salary': 200, 'bonus': 300}), ('Liza', {'salary': 1300, 'bonus': 200}), ('Richard', {'salary': 500, 'bonus': 1200}), ('Oleg', {'salary': 1000000, 'bonus': 300})]\n"
     ]
    }
   ],
   "source": [
    "# получаем только ключи/значения из словаря (очень пригодиться в циклах)\n",
    "# print(staff_dict.keys())\n",
    "# print(staff_dict.values())\n",
    "print(staff_dict.items())\n",
    "\n",
    "# print(list(staff_dict.keys()))\n",
    "# print(list(staff_dict.values()))\n",
    "print(list(staff_dict.items()))"
   ]
  },
  {
   "cell_type": "code",
   "execution_count": 119,
   "metadata": {},
   "outputs": [
    {
     "name": "stdout",
     "output_type": "stream",
     "text": [
      "Robert's salary: 800\n",
      "Jane's salary: 200\n",
      "Richard's salary: 500\n"
     ]
    }
   ],
   "source": [
    "# итерация по словарям\n",
    "# так бы было без цикла\n",
    "print(\"Robert's salary:\", staff_dict['Robert']['salary'])\n",
    "print(\"Jane's salary:\", staff_dict['Jane']['salary'])\n",
    "print(\"Richard's salary:\", staff_dict['Richard']['salary'])"
   ]
  },
  {
   "cell_type": "code",
   "execution_count": 120,
   "metadata": {},
   "outputs": [
    {
     "name": "stdout",
     "output_type": "stream",
     "text": [
      "Robert\n",
      "Jane\n",
      "Liza\n",
      "Richard\n",
      "Oleg\n"
     ]
    }
   ],
   "source": [
    "for person in staff_dict:\n",
    "    print(person)"
   ]
  },
  {
   "cell_type": "code",
   "execution_count": 121,
   "metadata": {},
   "outputs": [
    {
     "name": "stdout",
     "output_type": "stream",
     "text": [
      "Robert\n",
      "Jane\n",
      "Liza\n",
      "Richard\n",
      "Oleg\n"
     ]
    }
   ],
   "source": [
    "for key in staff_dict.keys():\n",
    "    print(key)"
   ]
  },
  {
   "cell_type": "code",
   "execution_count": 122,
   "metadata": {},
   "outputs": [
    {
     "name": "stdout",
     "output_type": "stream",
     "text": [
      "{'salary': 800, 'bonus': 200}\n",
      "{'salary': 200, 'bonus': 300}\n",
      "{'salary': 1300, 'bonus': 200}\n",
      "{'salary': 500, 'bonus': 1200}\n",
      "{'salary': 1000000, 'bonus': 300}\n"
     ]
    }
   ],
   "source": [
    "for value in staff_dict.values():\n",
    "    print(value)"
   ]
  },
  {
   "cell_type": "code",
   "execution_count": 123,
   "metadata": {},
   "outputs": [
    {
     "name": "stdout",
     "output_type": "stream",
     "text": [
      "Robert {'salary': 800, 'bonus': 200}\n",
      "Jane {'salary': 200, 'bonus': 300}\n",
      "Liza {'salary': 1300, 'bonus': 200}\n",
      "Richard {'salary': 500, 'bonus': 1200}\n",
      "Oleg {'salary': 1000000, 'bonus': 300}\n"
     ]
    }
   ],
   "source": [
    "for key, value in staff_dict.items():\n",
    "    print(key, value)"
   ]
  },
  {
   "cell_type": "code",
   "execution_count": 124,
   "metadata": {},
   "outputs": [
    {
     "name": "stdout",
     "output_type": "stream",
     "text": [
      "1 Robert\n",
      "2 Jane\n",
      "3 Liza\n",
      "4 Richard\n",
      "5 Oleg\n"
     ]
    }
   ],
   "source": [
    "for i, person in enumerate(staff_dict):\n",
    "    print(i+1, person)"
   ]
  },
  {
   "cell_type": "code",
   "execution_count": 125,
   "metadata": {},
   "outputs": [
    {
     "name": "stdout",
     "output_type": "stream",
     "text": [
      "Robert's salary: 800\n",
      "Jane's salary: 200\n",
      "Liza's salary: 1300\n",
      "Richard's salary: 500\n",
      "Oleg's salary: 1000000\n"
     ]
    }
   ],
   "source": [
    "# используем цикл\n",
    "for person, info in staff_dict.items():\n",
    "#     print(person, info)\n",
    "    print(person, \"'s salary: \", info['salary'], sep='')"
   ]
  },
  {
   "cell_type": "code",
   "execution_count": 126,
   "metadata": {},
   "outputs": [
    {
     "data": {
      "text/plain": [
       "{'Robert': {'salary': 800, 'bonus': 200, 'status': 'below average'},\n",
       " 'Jane': {'salary': 200, 'bonus': 300, 'status': 'below average'},\n",
       " 'Liza': {'salary': 1300, 'bonus': 200, 'status': 'above average'},\n",
       " 'Richard': {'salary': 500, 'bonus': 1200, 'status': 'below average'},\n",
       " 'Oleg': {'salary': 1000000, 'bonus': 300, 'status': 'above average'}}"
      ]
     },
     "execution_count": 126,
     "metadata": {},
     "output_type": "execute_result"
    }
   ],
   "source": [
    "# добавим уровень з/п\n",
    "for person, info in staff_dict.items():\n",
    "#     print(person)\n",
    "    if info['salary'] > 1000:\n",
    "        info['status'] = 'above average'\n",
    "    else:\n",
    "        info['status'] = 'below average'\n",
    "#     print(f\"{person}'s salary: {info['salary']} ({status})\")\n",
    "\n",
    "staff_dict"
   ]
  },
  {
   "cell_type": "code",
   "execution_count": 129,
   "metadata": {},
   "outputs": [
    {
     "name": "stdout",
     "output_type": "stream",
     "text": [
      "{'Еда': 100, 'Авто': 200, 'Политика': 300}\n"
     ]
    }
   ],
   "source": [
    "# функция zip\n",
    "categories = ['Еда', 'Авто', 'Политика', '346346']\n",
    "audience = [100, 200, 300]\n",
    "\n",
    "categories_dict = dict(zip(categories, audience))\n",
    "print(categories_dict)"
   ]
  },
  {
   "cell_type": "markdown",
   "metadata": {},
   "source": [
    "## Попрактикуемся\n",
    "Для каждого источника посчитайте ROI (revenue / cost - 1)"
   ]
  },
  {
   "cell_type": "code",
   "execution_count": 130,
   "metadata": {},
   "outputs": [],
   "source": [
    "results = {\n",
    "    'vk': {'revenue': 103, 'cost': 98},\n",
    "    'yandex': {'revenue': 179, 'cost': 153},\n",
    "    'facebook': {'revenue': 103, 'cost': 110},\n",
    "    'adwords': {'revenue': 35, 'cost': 34},\n",
    "    'twitter': {'revenue': 11, 'cost': 24},\n",
    "}"
   ]
  },
  {
   "cell_type": "code",
   "execution_count": 140,
   "metadata": {},
   "outputs": [
    {
     "name": "stdout",
     "output_type": "stream",
     "text": [
      "vk: 0.05102040816326525\n",
      "yandex: 0.16993464052287588\n",
      "facebook: -0.0636363636363636\n",
      "adwords: 0.02941176470588225\n",
      "twitter: -0.5416666666666667\n",
      "\n"
     ]
    }
   ],
   "source": [
    "print(''.join(str for str in [name + ': ' + str(value['revenue']/value['cost'] - 1) + '\\n' for name, value in results.items()]))"
   ]
  },
  {
   "cell_type": "markdown",
   "metadata": {},
   "source": [
    "## Dict comprehension\n",
    "Похоже на  list comprehension"
   ]
  },
  {
   "cell_type": "code",
   "execution_count": 1,
   "metadata": {},
   "outputs": [
    {
     "data": {
      "text/plain": [
       "[0, 1, 4, 9, 16, 25, 36, 49, 64, 81]"
      ]
     },
     "execution_count": 1,
     "metadata": {},
     "output_type": "execute_result"
    }
   ],
   "source": [
    "[x**2 for x in range(10)]"
   ]
  },
  {
   "cell_type": "code",
   "execution_count": 2,
   "metadata": {},
   "outputs": [
    {
     "data": {
      "text/plain": [
       "{0: 0, 1: 1, 2: 4, 3: 9, 4: 16, 5: 25, 6: 36, 7: 49, 8: 64, 9: 81}"
      ]
     },
     "execution_count": 2,
     "metadata": {},
     "output_type": "execute_result"
    }
   ],
   "source": [
    "{n: n**2 for n in range(10)}"
   ]
  },
  {
   "cell_type": "code",
   "execution_count": 3,
   "metadata": {},
   "outputs": [],
   "source": [
    "results = [('date', '2018-01-01'), ('counter', '777'), ('visits', 154)]"
   ]
  },
  {
   "cell_type": "code",
   "execution_count": 4,
   "metadata": {},
   "outputs": [
    {
     "data": {
      "text/plain": [
       "{'date': '2018-01-01', 'counter': '777', 'visits': 154}"
      ]
     },
     "execution_count": 4,
     "metadata": {},
     "output_type": "execute_result"
    }
   ],
   "source": [
    "{metric: value for (metric, value) in results}"
   ]
  },
  {
   "cell_type": "code",
   "execution_count": 5,
   "metadata": {},
   "outputs": [],
   "source": [
    "cook_book = {\n",
    "  'салат': [\n",
    "     {'ingridient_name': 'сыр', 'quantity': 50, 'measure': 'гр'},\n",
    "     {'ingridient_name': 'томаты', 'quantity': 20, 'measure': 'гр'},\n",
    "     {'ingridient_name': 'огурцы', 'quantity': 20, 'measure': 'гр'},\n",
    "     {'ingridient_name': 'маслины', 'quantity': 10, 'measure': 'гр'},\n",
    "     {'ingridient_name': 'оливковое масло', 'quantity': 20, 'measure': 'мл'},\n",
    "     {'ingridient_name': 'салат', 'quantity': 10, 'measure': 'гр'},\n",
    "     {'ingridient_name': 'перец', 'quantity': 20, 'measure': 'гр'}\n",
    "    ],\n",
    "  'пицца': [\n",
    "     {'ingridient_name': 'сыр', 'quantity': 20, 'measure': 'гр'},\n",
    "     {'ingridient_name': 'колбаса', 'quantity': 30, 'measure': 'гр'},\n",
    "     {'ingridient_name': 'бекон', 'quantity': 30, 'measure': 'гр'},\n",
    "     {'ingridient_name': 'оливки', 'quantity': 10, 'measure': 'гр'},\n",
    "     {'ingridient_name': 'томаты', 'quantity': 20, 'measure': 'гр'},\n",
    "     {'ingridient_name': 'тесто', 'quantity': 100, 'measure': 'гр'},   \n",
    "    ],\n",
    "  'лимонад': [\n",
    "     {'ingridient_name': 'лимон', 'quantity': 1, 'measure': 'шт'},\n",
    "     {'ingridient_name': 'вода', 'quantity': 200, 'measure': 'мл'},\n",
    "     {'ingridient_name': 'сахар', 'quantity': 10, 'measure': 'гр'},\n",
    "     {'ingridient_name': 'лайм', 'quantity': 20, 'measure': 'гр'},    \n",
    "    ]\n",
    "}"
   ]
  }
 ],
 "metadata": {
  "kernelspec": {
   "display_name": "Python 3",
   "language": "python",
   "name": "python3"
  },
  "language_info": {
   "codemirror_mode": {
    "name": "ipython",
    "version": 3
   },
   "file_extension": ".py",
   "mimetype": "text/x-python",
   "name": "python",
   "nbconvert_exporter": "python",
   "pygments_lexer": "ipython3",
   "version": "3.8.3"
  }
 },
 "nbformat": 4,
 "nbformat_minor": 4
}
